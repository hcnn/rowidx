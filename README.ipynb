{
 "cells": [
  {
   "cell_type": "markdown",
   "metadata": {},
   "source": [
    "### Row-Major Order Matrices in C\n",
    "In C matrices are using row-major order.\n",
    "\n",
    "For example, let `a[n][m]` be an array of arrays with `i=0,1,..,n-1` and `j=0,1,..,m-1`\n",
    "\n",
    "```\n",
    "int a[2][3] = {\n",
    "    {1,2,3},\n",
    "    {4,5,6}\n",
    "}\n",
    "```\n",
    "\n",
    "is internally nothing else than a simple array `b[n*m]`\n",
    "\n",
    "```\n",
    "int b[] = {\n",
    "    1,2,3,\n",
    "    4,5,6\n",
    "}\n",
    "```\n",
    "\n",
    "An array of array are easier to grasp when accessing the matrix elements\n",
    "but declaring and handling such an array of array variable is painful."
   ]
  },
  {
   "cell_type": "markdown",
   "metadata": {},
   "source": [
    "### Access matrix elements when stored as array\n",
    "The approach is to convert `i` and `j` matrix indicies to a vector index `idx`\n",
    "\n",
    "$$\n",
    "idx = i \\, m + j\n",
    "$$"
   ]
  },
  {
   "cell_type": "code",
   "execution_count": 1,
   "metadata": {
    "ExecuteTime": {
     "end_time": "2018-09-03T08:25:37.909092Z",
     "start_time": "2018-09-03T08:25:37.773872Z"
    }
   },
   "outputs": [
    {
     "name": "stdout",
     "output_type": "stream",
     "text": [
      "i=0, j=1, matrix[i][j]=2 \n"
     ]
    }
   ],
   "source": [
    "#include <stddef.h>\n",
    "#include <stdio.h>\n",
    "\n",
    "size_t rowidx(size_t i, size_t j, size_t ncols){\n",
    "    return i*ncols + j;\n",
    "}\n",
    "\n",
    "int main(){\n",
    "    int i,j,n,m;\n",
    "    \n",
    "    n = 2;\n",
    "    m = 3;\n",
    "    \n",
    "    int b[] = {\n",
    "        1,2,3,\n",
    "        4,5,6\n",
    "    };\n",
    "    \n",
    "    i = 0;\n",
    "    j = 1;\n",
    "    printf(\"i=%d, j=%d, matrix[i][j]=%d \\n\", i, j, b[rowidx(i,j,m)]);\n",
    "}"
   ]
  },
  {
   "cell_type": "markdown",
   "metadata": {},
   "source": [
    "### Demo\n"
   ]
  },
  {
   "cell_type": "code",
   "execution_count": 2,
   "metadata": {
    "ExecuteTime": {
     "end_time": "2018-09-03T08:25:38.054240Z",
     "start_time": "2018-09-03T08:25:37.914261Z"
    }
   },
   "outputs": [
    {
     "name": "stdout",
     "output_type": "stream",
     "text": [
      "\n",
      "Row-Major Order Matrices in C:\n",
      " 1.0 2.0\n",
      " 3.0 4.0\n",
      " 5.0 6.0\n",
      "\n",
      "Transpose the Matrix -- Switch the i- and j-loop\n",
      " 1.0 3.0 5.0\n",
      " 2.0 4.0 6.0\n",
      "\n",
      "Use the Macro ROWIDX:\n",
      " 1.0 2.0\n",
      " 3.0 4.0\n",
      " 5.0 6.0\n"
     ]
    }
   ],
   "source": [
    "#include <stddef.h>\n",
    "#include <stdio.h>\n",
    "\n",
    "#define ROWIDX(i,j,ncols) (((i)*(ncols))+(j))\n",
    "\n",
    "size_t rowidx(size_t i, size_t j, size_t ncols){\n",
    "    return i*ncols + j;\n",
    "}\n",
    "\n",
    "\n",
    "int main(){\n",
    "    double x[] = {1,2,3,4,5,6};\n",
    "    size_t n = 3;\n",
    "    size_t m = 2;\n",
    "    \n",
    "    printf(\"\\n%s\\n\", \"Row-Major Order Matrices in C:\");\n",
    "    for(size_t i=0; i<n; i++){\n",
    "        for(size_t j=0; j<m; j++){\n",
    "            printf(\"%4.1f\", x[rowidx(i,j,m)]);\n",
    "        }\n",
    "        printf(\"\\n\");\n",
    "    }\n",
    "\n",
    "    printf(\"\\n%s\\n\", \"Transpose the Matrix -- Switch the i- and j-loop\");\n",
    "    for(size_t j=0; j<m; j++){\n",
    "        for(size_t i=0; i<n; i++){\n",
    "            printf(\"%4.1f\", x[rowidx(i,j,m)]);\n",
    "        }\n",
    "        printf(\"\\n\");\n",
    "    }\n",
    "\n",
    "    printf(\"\\n%s\\n\", \"Use the Macro ROWIDX:\");\n",
    "    for(size_t i=0; i<n; i++){\n",
    "        for(size_t j=0; j<m; j++){\n",
    "            printf(\"%4.1f\", x[ROWIDX(i,j,m)]);\n",
    "        }\n",
    "        printf(\"\\n\");\n",
    "    }\n",
    "\n",
    "}"
   ]
  }
 ],
 "metadata": {
  "kernelspec": {
   "display_name": "C",
   "language": "c",
   "name": "c"
  },
  "language_info": {
   "file_extension": ".c",
   "mimetype": "text/plain",
   "name": "c"
  },
  "toc": {
   "base_numbering": 1,
   "nav_menu": {},
   "number_sections": true,
   "sideBar": true,
   "skip_h1_title": false,
   "title_cell": "Table of Contents",
   "title_sidebar": "Contents",
   "toc_cell": false,
   "toc_position": {},
   "toc_section_display": true,
   "toc_window_display": false
  },
  "varInspector": {
   "cols": {
    "lenName": 16,
    "lenType": 16,
    "lenVar": 40
   },
   "kernels_config": {
    "python": {
     "delete_cmd_postfix": "",
     "delete_cmd_prefix": "del ",
     "library": "var_list.py",
     "varRefreshCmd": "print(var_dic_list())"
    },
    "r": {
     "delete_cmd_postfix": ") ",
     "delete_cmd_prefix": "rm(",
     "library": "var_list.r",
     "varRefreshCmd": "cat(var_dic_list()) "
    }
   },
   "types_to_exclude": [
    "module",
    "function",
    "builtin_function_or_method",
    "instance",
    "_Feature"
   ],
   "window_display": false
  }
 },
 "nbformat": 4,
 "nbformat_minor": 2
}
